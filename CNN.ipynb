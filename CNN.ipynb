{
  "nbformat": 4,
  "nbformat_minor": 0,
  "metadata": {
    "colab": {
      "name": "CNN.ipynb",
      "provenance": [],
      "authorship_tag": "ABX9TyO92hOeLUYREr1HMqQQenh7",
      "include_colab_link": true
    },
    "kernelspec": {
      "name": "python3",
      "display_name": "Python 3"
    },
    "widgets": {
      "application/vnd.jupyter.widget-state+json": {
        "d558818c7f334ba19976e24b6241bd7d": {
          "model_module": "@jupyter-widgets/controls",
          "model_name": "HBoxModel",
          "state": {
            "_view_name": "HBoxView",
            "_dom_classes": [],
            "_model_name": "HBoxModel",
            "_view_module": "@jupyter-widgets/controls",
            "_model_module_version": "1.5.0",
            "_view_count": null,
            "_view_module_version": "1.5.0",
            "box_style": "",
            "layout": "IPY_MODEL_fc95b7932e284c94a7cd8a82ced93b46",
            "_model_module": "@jupyter-widgets/controls",
            "children": [
              "IPY_MODEL_04c6429753ff458581e3a239713f1368",
              "IPY_MODEL_068e9b56fdb14806bddad6aa42253bd3"
            ]
          }
        },
        "fc95b7932e284c94a7cd8a82ced93b46": {
          "model_module": "@jupyter-widgets/base",
          "model_name": "LayoutModel",
          "state": {
            "_view_name": "LayoutView",
            "grid_template_rows": null,
            "right": null,
            "justify_content": null,
            "_view_module": "@jupyter-widgets/base",
            "overflow": null,
            "_model_module_version": "1.2.0",
            "_view_count": null,
            "flex_flow": null,
            "width": null,
            "min_width": null,
            "border": null,
            "align_items": null,
            "bottom": null,
            "_model_module": "@jupyter-widgets/base",
            "top": null,
            "grid_column": null,
            "overflow_y": null,
            "overflow_x": null,
            "grid_auto_flow": null,
            "grid_area": null,
            "grid_template_columns": null,
            "flex": null,
            "_model_name": "LayoutModel",
            "justify_items": null,
            "grid_row": null,
            "max_height": null,
            "align_content": null,
            "visibility": null,
            "align_self": null,
            "height": null,
            "min_height": null,
            "padding": null,
            "grid_auto_rows": null,
            "grid_gap": null,
            "max_width": null,
            "order": null,
            "_view_module_version": "1.2.0",
            "grid_template_areas": null,
            "object_position": null,
            "object_fit": null,
            "grid_auto_columns": null,
            "margin": null,
            "display": null,
            "left": null
          }
        },
        "04c6429753ff458581e3a239713f1368": {
          "model_module": "@jupyter-widgets/controls",
          "model_name": "FloatProgressModel",
          "state": {
            "_view_name": "ProgressView",
            "style": "IPY_MODEL_1c4f08473c8649d1935e770d81479bbd",
            "_dom_classes": [],
            "description": "",
            "_model_name": "FloatProgressModel",
            "bar_style": "info",
            "max": 1,
            "_view_module": "@jupyter-widgets/controls",
            "_model_module_version": "1.5.0",
            "value": 1,
            "_view_count": null,
            "_view_module_version": "1.5.0",
            "orientation": "horizontal",
            "min": 0,
            "description_tooltip": null,
            "_model_module": "@jupyter-widgets/controls",
            "layout": "IPY_MODEL_efd74a9e62f2400baa4991607ec8ef57"
          }
        },
        "068e9b56fdb14806bddad6aa42253bd3": {
          "model_module": "@jupyter-widgets/controls",
          "model_name": "HTMLModel",
          "state": {
            "_view_name": "HTMLView",
            "style": "IPY_MODEL_090b6282aea04b80bf89ea079d5f1a43",
            "_dom_classes": [],
            "description": "",
            "_model_name": "HTMLModel",
            "placeholder": "​",
            "_view_module": "@jupyter-widgets/controls",
            "_model_module_version": "1.5.0",
            "value": " 168173568/? [00:30&lt;00:00, 16723475.77it/s]",
            "_view_count": null,
            "_view_module_version": "1.5.0",
            "description_tooltip": null,
            "_model_module": "@jupyter-widgets/controls",
            "layout": "IPY_MODEL_e406c7026f534b28aa1f4fc821d871be"
          }
        },
        "1c4f08473c8649d1935e770d81479bbd": {
          "model_module": "@jupyter-widgets/controls",
          "model_name": "ProgressStyleModel",
          "state": {
            "_view_name": "StyleView",
            "_model_name": "ProgressStyleModel",
            "description_width": "initial",
            "_view_module": "@jupyter-widgets/base",
            "_model_module_version": "1.5.0",
            "_view_count": null,
            "_view_module_version": "1.2.0",
            "bar_color": null,
            "_model_module": "@jupyter-widgets/controls"
          }
        },
        "efd74a9e62f2400baa4991607ec8ef57": {
          "model_module": "@jupyter-widgets/base",
          "model_name": "LayoutModel",
          "state": {
            "_view_name": "LayoutView",
            "grid_template_rows": null,
            "right": null,
            "justify_content": null,
            "_view_module": "@jupyter-widgets/base",
            "overflow": null,
            "_model_module_version": "1.2.0",
            "_view_count": null,
            "flex_flow": null,
            "width": null,
            "min_width": null,
            "border": null,
            "align_items": null,
            "bottom": null,
            "_model_module": "@jupyter-widgets/base",
            "top": null,
            "grid_column": null,
            "overflow_y": null,
            "overflow_x": null,
            "grid_auto_flow": null,
            "grid_area": null,
            "grid_template_columns": null,
            "flex": null,
            "_model_name": "LayoutModel",
            "justify_items": null,
            "grid_row": null,
            "max_height": null,
            "align_content": null,
            "visibility": null,
            "align_self": null,
            "height": null,
            "min_height": null,
            "padding": null,
            "grid_auto_rows": null,
            "grid_gap": null,
            "max_width": null,
            "order": null,
            "_view_module_version": "1.2.0",
            "grid_template_areas": null,
            "object_position": null,
            "object_fit": null,
            "grid_auto_columns": null,
            "margin": null,
            "display": null,
            "left": null
          }
        },
        "090b6282aea04b80bf89ea079d5f1a43": {
          "model_module": "@jupyter-widgets/controls",
          "model_name": "DescriptionStyleModel",
          "state": {
            "_view_name": "StyleView",
            "_model_name": "DescriptionStyleModel",
            "description_width": "",
            "_view_module": "@jupyter-widgets/base",
            "_model_module_version": "1.5.0",
            "_view_count": null,
            "_view_module_version": "1.2.0",
            "_model_module": "@jupyter-widgets/controls"
          }
        },
        "e406c7026f534b28aa1f4fc821d871be": {
          "model_module": "@jupyter-widgets/base",
          "model_name": "LayoutModel",
          "state": {
            "_view_name": "LayoutView",
            "grid_template_rows": null,
            "right": null,
            "justify_content": null,
            "_view_module": "@jupyter-widgets/base",
            "overflow": null,
            "_model_module_version": "1.2.0",
            "_view_count": null,
            "flex_flow": null,
            "width": null,
            "min_width": null,
            "border": null,
            "align_items": null,
            "bottom": null,
            "_model_module": "@jupyter-widgets/base",
            "top": null,
            "grid_column": null,
            "overflow_y": null,
            "overflow_x": null,
            "grid_auto_flow": null,
            "grid_area": null,
            "grid_template_columns": null,
            "flex": null,
            "_model_name": "LayoutModel",
            "justify_items": null,
            "grid_row": null,
            "max_height": null,
            "align_content": null,
            "visibility": null,
            "align_self": null,
            "height": null,
            "min_height": null,
            "padding": null,
            "grid_auto_rows": null,
            "grid_gap": null,
            "max_width": null,
            "order": null,
            "_view_module_version": "1.2.0",
            "grid_template_areas": null,
            "object_position": null,
            "object_fit": null,
            "grid_auto_columns": null,
            "margin": null,
            "display": null,
            "left": null
          }
        }
      }
    }
  },
  "cells": [
    {
      "cell_type": "markdown",
      "metadata": {
        "id": "view-in-github",
        "colab_type": "text"
      },
      "source": [
        "<a href=\"https://colab.research.google.com/github/Chaitanyate/Deep_learning/blob/master/CNN.ipynb\" target=\"_parent\"><img src=\"https://colab.research.google.com/assets/colab-badge.svg\" alt=\"Open In Colab\"/></a>"
      ]
    },
    {
      "cell_type": "code",
      "metadata": {
        "id": "fzx3JJofD3u5",
        "colab_type": "code",
        "colab": {}
      },
      "source": [
        "import os\n",
        "import torch\n",
        "import torchvision\n",
        "import tarfile\n",
        "from torchvision.datasets.utils import download_url"
      ],
      "execution_count": 1,
      "outputs": []
    },
    {
      "cell_type": "code",
      "metadata": {
        "id": "Vfog6XWlFGJy",
        "colab_type": "code",
        "colab": {
          "base_uri": "https://localhost:8080/",
          "height": 66,
          "referenced_widgets": [
            "d558818c7f334ba19976e24b6241bd7d",
            "fc95b7932e284c94a7cd8a82ced93b46",
            "04c6429753ff458581e3a239713f1368",
            "068e9b56fdb14806bddad6aa42253bd3",
            "1c4f08473c8649d1935e770d81479bbd",
            "efd74a9e62f2400baa4991607ec8ef57",
            "090b6282aea04b80bf89ea079d5f1a43",
            "e406c7026f534b28aa1f4fc821d871be"
          ]
        },
        "outputId": "10826abe-f333-4f25-bdf6-994882760462"
      },
      "source": [
        "dataset_url=\"http://files.fast.ai/data/cifar10.tgz\"\n",
        "download_url(dataset_url,'.')"
      ],
      "execution_count": 2,
      "outputs": [
        {
          "output_type": "stream",
          "text": [
            "Downloading http://files.fast.ai/data/cifar10.tgz to ./cifar10.tgz\n"
          ],
          "name": "stdout"
        },
        {
          "output_type": "display_data",
          "data": {
            "application/vnd.jupyter.widget-view+json": {
              "model_id": "d558818c7f334ba19976e24b6241bd7d",
              "version_minor": 0,
              "version_major": 2
            },
            "text/plain": [
              "HBox(children=(FloatProgress(value=1.0, bar_style='info', max=1.0), HTML(value='')))"
            ]
          },
          "metadata": {
            "tags": []
          }
        }
      ]
    },
    {
      "cell_type": "code",
      "metadata": {
        "id": "J82n5ZUIFZef",
        "colab_type": "code",
        "colab": {}
      },
      "source": [
        "with tarfile.open('./cifar10.tgz','r:gz') as tar:\n",
        "  tar.extractall(path='./data')"
      ],
      "execution_count": 3,
      "outputs": []
    },
    {
      "cell_type": "code",
      "metadata": {
        "id": "8t15NklAFvVE",
        "colab_type": "code",
        "colab": {
          "base_uri": "https://localhost:8080/",
          "height": 52
        },
        "outputId": "528f987b-7a0c-4ced-d7ca-e92162be28d4"
      },
      "source": [
        "data_dir='./data/cifar10'\n",
        "print(os.listdir(data_dir))\n",
        "classes=os.listdir(data_dir +\"/train\")\n",
        "print(len(classes[8]))"
      ],
      "execution_count": 4,
      "outputs": [
        {
          "output_type": "stream",
          "text": [
            "['test', 'labels.txt', 'train']\n",
            "5\n"
          ],
          "name": "stdout"
        }
      ]
    },
    {
      "cell_type": "code",
      "metadata": {
        "id": "PAy5da0PGKNg",
        "colab_type": "code",
        "colab": {
          "base_uri": "https://localhost:8080/",
          "height": 52
        },
        "outputId": "7e3b034d-26d9-4cc2-ebf0-a8a0a104a7ef"
      },
      "source": [
        "airplanes_files=os.listdir(data_dir +\"/train/airplane\")\n",
        "print(len(airplanes_files))\n",
        "print(airplanes_files[:5])"
      ],
      "execution_count": 6,
      "outputs": [
        {
          "output_type": "stream",
          "text": [
            "5000\n",
            "['11080_airplane.png', '30537_airplane.png', '37704_airplane.png', '46486_airplane.png', '29803_airplane.png']\n"
          ],
          "name": "stdout"
        }
      ]
    },
    {
      "cell_type": "code",
      "metadata": {
        "id": "EKCZRxAgAnZs",
        "colab_type": "code",
        "colab": {
          "base_uri": "https://localhost:8080/",
          "height": 52
        },
        "outputId": "8dd2e428-ab34-4c00-b6ad-22f227940f55"
      },
      "source": [
        "airplanes_files=os.listdir(data_dir +\"/test/ship\")\n",
        "print(len(airplanes_files))\n",
        "print(airplanes_files[:5])"
      ],
      "execution_count": 8,
      "outputs": [
        {
          "output_type": "stream",
          "text": [
            "1000\n",
            "['4787_ship.png', '9412_ship.png', '818_ship.png', '6737_ship.png', '1_ship.png']\n"
          ],
          "name": "stdout"
        }
      ]
    },
    {
      "cell_type": "code",
      "metadata": {
        "id": "SNyNbfMEAwaP",
        "colab_type": "code",
        "colab": {}
      },
      "source": [
        "from torchvision.datasets import ImageFolder\n",
        "from torchvision.transforms import ToTensor"
      ],
      "execution_count": 9,
      "outputs": []
    },
    {
      "cell_type": "code",
      "metadata": {
        "id": "SDtsQh1VBlEs",
        "colab_type": "code",
        "colab": {}
      },
      "source": [
        "dataset=ImageFolder(data_dir + '/train',transform=ToTensor())\n"
      ],
      "execution_count": 10,
      "outputs": []
    },
    {
      "cell_type": "code",
      "metadata": {
        "id": "kg17JIYSB44m",
        "colab_type": "code",
        "colab": {
          "base_uri": "https://localhost:8080/",
          "height": 434
        },
        "outputId": "c210d392-a629-4d05-eb57-9fcd8442703a"
      },
      "source": [
        "img,label=dataset[5]\n",
        "print(img.shape,label)\n",
        "img"
      ],
      "execution_count": 12,
      "outputs": [
        {
          "output_type": "stream",
          "text": [
            "torch.Size([3, 32, 32]) 0\n"
          ],
          "name": "stdout"
        },
        {
          "output_type": "execute_result",
          "data": {
            "text/plain": [
              "tensor([[[0.7020, 0.7020, 0.7059,  ..., 0.7490, 0.7412, 0.7412],\n",
              "         [0.7020, 0.7020, 0.7059,  ..., 0.7647, 0.7608, 0.7529],\n",
              "         [0.7020, 0.7020, 0.7059,  ..., 0.7843, 0.7804, 0.7686],\n",
              "         ...,\n",
              "         [0.8510, 0.8431, 0.8510,  ..., 0.8392, 0.8314, 0.8275],\n",
              "         [0.8510, 0.8510, 0.8588,  ..., 0.8510, 0.8471, 0.8431],\n",
              "         [0.8627, 0.8588, 0.8667,  ..., 0.8549, 0.8549, 0.8549]],\n",
              "\n",
              "        [[0.8118, 0.8078, 0.8118,  ..., 0.8157, 0.8118, 0.8118],\n",
              "         [0.8078, 0.8078, 0.8118,  ..., 0.8275, 0.8196, 0.8157],\n",
              "         [0.8118, 0.8078, 0.8118,  ..., 0.8431, 0.8431, 0.8275],\n",
              "         ...,\n",
              "         [0.8510, 0.8431, 0.8510,  ..., 0.8471, 0.8431, 0.8353],\n",
              "         [0.8471, 0.8471, 0.8549,  ..., 0.8549, 0.8510, 0.8471],\n",
              "         [0.8510, 0.8471, 0.8549,  ..., 0.8510, 0.8510, 0.8510]],\n",
              "\n",
              "        [[0.9176, 0.9137, 0.9176,  ..., 0.9294, 0.9255, 0.9255],\n",
              "         [0.9137, 0.9137, 0.9176,  ..., 0.9373, 0.9294, 0.9255],\n",
              "         [0.9176, 0.9137, 0.9176,  ..., 0.9490, 0.9451, 0.9333],\n",
              "         ...,\n",
              "         [0.8863, 0.8784, 0.8863,  ..., 0.8902, 0.8824, 0.8784],\n",
              "         [0.8745, 0.8745, 0.8824,  ..., 0.8824, 0.8784, 0.8784],\n",
              "         [0.8745, 0.8745, 0.8784,  ..., 0.8863, 0.8902, 0.8902]]])"
            ]
          },
          "metadata": {
            "tags": []
          },
          "execution_count": 12
        }
      ]
    },
    {
      "cell_type": "code",
      "metadata": {
        "id": "dpCsSdRtCNX7",
        "colab_type": "code",
        "colab": {}
      },
      "source": [
        "import matplotlib.pyplot as plt\n",
        "\n",
        "def show_example(img,label):\n",
        "  print(\"label:\",dataset.classes[label],'('+str(label)+')')\n",
        "  plt.imshow(img.permute(1,2,0))\n"
      ],
      "execution_count": 22,
      "outputs": []
    },
    {
      "cell_type": "code",
      "metadata": {
        "id": "FVnvP8jVDJgF",
        "colab_type": "code",
        "colab": {
          "base_uri": "https://localhost:8080/",
          "height": 283
        },
        "outputId": "0cf89dda-8d0c-4256-82f8-f8935acc1201"
      },
      "source": [
        "show_example(*dataset[2299])"
      ],
      "execution_count": 26,
      "outputs": [
        {
          "output_type": "stream",
          "text": [
            "label: airplane (0)\n"
          ],
          "name": "stdout"
        },
        {
          "output_type": "display_data",
          "data": {
            "image/png": "[encoded data removed]",
            "text/plain": [
              "<Figure size 432x288 with 1 Axes>"
            ]
          },
          "metadata": {
            "tags": [],
            "needs_background": "light"
          }
        }
      ]
    },
    {
      "cell_type": "code",
      "metadata": {
        "id": "Zy60bdtrDOWU",
        "colab_type": "code",
        "colab": {}
      },
      "source": [
        "import numpy as np\n",
        "def split_indices(n,val_pet,seed):\n",
        "  n_val=int(val_pet*n)\n",
        "  np.random.seed(seed)\n",
        "  idxs=np.random.permutation(n)\n",
        "  return idxs[n_val:],idxs[:n_val]\n",
        "  "
      ],
      "execution_count": 17,
      "outputs": []
    },
    {
      "cell_type": "code",
      "metadata": {
        "id": "xZKj_coCExxq",
        "colab_type": "code",
        "colab": {
          "base_uri": "https://localhost:8080/",
          "height": 52
        },
        "outputId": "7d15b6ba-3a3e-4d65-c3d2-21d56b3321c6"
      },
      "source": [
        "val_pet=0.2\n",
        "rand_seed=42\n",
        "train_indices,val_indices=split_indices(len(dataset),val_pet,rand_seed)\n",
        "print(len(train_indices),len(val_indices))\n",
        "print(val_indices[:10])"
      ],
      "execution_count": 18,
      "outputs": [
        {
          "output_type": "stream",
          "text": [
            "40000 10000\n",
            "[33553  9427   199 12447 39489 42724 10822 49498  4144 36958]\n"
          ],
          "name": "stdout"
        }
      ]
    },
    {
      "cell_type": "code",
      "metadata": {
        "id": "pIH1vWL8KgpX",
        "colab_type": "code",
        "colab": {}
      },
      "source": [
        ""
      ],
      "execution_count": null,
      "outputs": []
    }
  ]
}