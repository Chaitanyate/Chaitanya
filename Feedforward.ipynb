{
  "nbformat": 4,
  "nbformat_minor": 0,
  "metadata": {
    "colab": {
      "name": "Feedforward.ipynb",
      "provenance": [],
      "authorship_tag": "ABX9TyMcituu+QHLYzsbk2Kc0Y9c",
      "include_colab_link": true
    },
    "kernelspec": {
      "name": "python3",
      "display_name": "Python 3"
    }
  },
  "cells": [
    {
      "cell_type": "markdown",
      "metadata": {
        "id": "view-in-github",
        "colab_type": "text"
      },
      "source": [
        "<a href=\"https://colab.research.google.com/github/Chaitanyate/Deep_learning/blob/master/Feedforward.ipynb\" target=\"_parent\"><img src=\"https://colab.research.google.com/assets/colab-badge.svg\" alt=\"Open In Colab\"/></a>"
      ]
    },
    {
      "cell_type": "code",
      "metadata": {
        "id": "_Ub5nJ4ezmAy",
        "colab_type": "code",
        "colab": {}
      },
      "source": [
        "import torch\n",
        "import numpy as np\n",
        "import torchvision\n",
        "from torchvision.datasets import MNIST\n",
        "from torchvision.transforms import ToTensor\n",
        "from torch.utils.data.sampler import SubsetRandomSampler\n",
        "from torch.utils.data.dataloader import DataLoader"
      ],
      "execution_count": 0,
      "outputs": []
    },
    {
      "cell_type": "code",
      "metadata": {
        "id": "bDa7Ik5Bz0e9",
        "colab_type": "code",
        "colab": {}
      },
      "source": [
        "dataset= MNIST(root='home/',download=True,transform=ToTensor)"
      ],
      "execution_count": 0,
      "outputs": []
    },
    {
      "cell_type": "code",
      "metadata": {
        "id": "Zq78UkxE0rnf",
        "colab_type": "code",
        "colab": {}
      },
      "source": [
        "def split_in(n,val):\n",
        "  n_val=int(n*val)\n",
        "  idx=np.random.permutation(n)\n",
        "  return idx[n_val:],idx[:n_val]"
      ],
      "execution_count": 0,
      "outputs": []
    },
    {
      "cell_type": "code",
      "metadata": {
        "id": "fnyqAUw91IA8",
        "colab_type": "code",
        "colab": {
          "base_uri": "https://localhost:8080/",
          "height": 69
        },
        "outputId": "c6ce49e4-3e60-4544-985d-a8542ee6f103"
      },
      "source": [
        "train_indices,val_indices=split_in(len(dataset),0.2)\n",
        "print(len(train_indices))\n",
        "print(val_indices[:20])"
      ],
      "execution_count": 10,
      "outputs": [
        {
          "output_type": "stream",
          "text": [
            "48000\n",
            "[32879 15584 45975 50853 12367  1527 10544 33445 29802  7987 51455 33883\n",
            " 18524 51628 26484 53000 23579 46030 24089 20849]\n"
          ],
          "name": "stdout"
        }
      ]
    },
    {
      "cell_type": "code",
      "metadata": {
        "id": "K2uz26ST2I50",
        "colab_type": "code",
        "colab": {}
      },
      "source": [
        "batch_size=100\n",
        "\n",
        "train_sampler=SubsetRandomSampler(train_indices)\n",
        "train_dl=DataLoader(dataset,batch_size,sampler=train_sampler)\n",
        "\n",
        "val_sampler=SubsetRandomSampler(val_indices)\n",
        "val_dl=DataLoader(dataset,batch_size,sampler=val_sampler)"
      ],
      "execution_count": 0,
      "outputs": []
    },
    {
      "cell_type": "code",
      "metadata": {
        "id": "sT7Q672i2-sI",
        "colab_type": "code",
        "colab": {}
      },
      "source": [
        ""
      ],
      "execution_count": 0,
      "outputs": []
    }
  ]
}